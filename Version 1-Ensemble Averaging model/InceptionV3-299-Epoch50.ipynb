{
 "cells": [
  {
   "cell_type": "code",
   "execution_count": 1,
   "metadata": {},
   "outputs": [],
   "source": [
    "import os\n",
    "os.environ['KMP_DUPLICATE_LIB_OK']='True'\n",
    "os.environ[\"CUDA_VISIBLE_DEVICES\"]=\"1\""
   ]
  },
  {
   "cell_type": "code",
   "execution_count": 2,
   "metadata": {},
   "outputs": [],
   "source": [
    "import pandas as pd\n",
    "import pathlib\n",
    "import tensorflow as tf\n",
    "import matplotlib.pyplot as plt\n",
    "from tensorflow import keras\n",
    "from keras.preprocessing.image import ImageDataGenerator\n",
    "from keras.models import Sequential\n",
    "from keras import applications\n",
    "from keras.layers import Activation, Dropout, Flatten, Dense,GlobalAveragePooling2D, BatchNormalization\n",
    "import visualkeras"
   ]
  },
  {
   "cell_type": "code",
   "execution_count": 3,
   "metadata": {
    "pycharm": {
     "name": "#%%\n"
    }
   },
   "outputs": [],
   "source": [
    "labels_csv = pd.read_csv('E:\\\\dx\\\\Level 6\\\\Project\\\\Topic-Ensemble Model for the Classification of Dog Breed\\\\\\Codes\\\\Dog-Breed-Classification-using-Ensemble-Pretrained-Models-main\\\\labels.csv')\n",
    "labels_csv['id'] = [str(fname) + '.jpg' for fname in labels_csv['id']]\n",
    "data_train = pathlib.Path('E:\\\\dx\\\\Level 6\\\\Project\\\\Topic-Ensemble Model for the Classification of Dog Breed\\\\Dataset\\\\120dog breeds-299\\\\train')\n",
    "data_test = pathlib.Path('E:\\\\dx\\\\Level 6\\\\Project\\\\Topic-Ensemble Model for the Classification of Dog Breed\\\\Dataset\\\\120dog breeds-299\\\\train')"
   ]
  },
  {
   "cell_type": "code",
   "execution_count": 4,
   "metadata": {
    "pycharm": {
     "name": "#%%\n"
    }
   },
   "outputs": [],
   "source": [
    "batch_size = 16\n",
    "img_size = 299"
   ]
  },
  {
   "cell_type": "code",
   "execution_count": 5,
   "metadata": {
    "pycharm": {
     "name": "#%%\n"
    }
   },
   "outputs": [
    {
     "name": "stdout",
     "output_type": "stream",
     "text": [
      "Found 8178 validated image filenames belonging to 120 classes.\n",
      "Found 2044 validated image filenames belonging to 120 classes.\n"
     ]
    }
   ],
   "source": [
    "datagen = ImageDataGenerator(preprocessing_function = keras.applications.inception_v3.preprocess_input, validation_split=0.2)\n",
    "train_generator = datagen.flow_from_dataframe(\n",
    "                        dataframe = labels_csv,\n",
    "                        directory = data_train,\n",
    "                        subset='training',\n",
    "                        x_col='id',\n",
    "                        y_col='breed',\n",
    "                        batch_size=batch_size,\n",
    "                        shuffle=True,\n",
    "                        class_mode='sparse',\n",
    "                        color_mode='rgb',\n",
    "                        target_size=(img_size, img_size))\n",
    "\n",
    "validation_generator = datagen.flow_from_dataframe(\n",
    "                        dataframe = labels_csv,\n",
    "                        directory = data_train,\n",
    "                        subset='validation',\n",
    "                        x_col='id',\n",
    "                        y_col='breed',\n",
    "                        batch_size=batch_size,\n",
    "                        shuffle=True,\n",
    "                        class_mode='sparse',\n",
    "                        color_mode='rgb',\n",
    "                        target_size=(img_size, img_size))"
   ]
  },
  {
   "cell_type": "code",
   "execution_count": 6,
   "metadata": {
    "pycharm": {
     "name": "#%%\n"
    }
   },
   "outputs": [
    {
     "name": "stdout",
     "output_type": "stream",
     "text": [
      "Model: \"sequential\"\n",
      "_________________________________________________________________\n",
      " Layer (type)                Output Shape              Param #   \n",
      "=================================================================\n",
      " inception_v3 (Functional)   (None, 5, 5, 2048)        21802784  \n",
      "                                                                 \n",
      " batch_normalization_94 (Bat  (None, 5, 5, 2048)       8192      \n",
      " chNormalization)                                                \n",
      "                                                                 \n",
      " global_average_pooling2d (G  (None, 2048)             0         \n",
      " lobalAveragePooling2D)                                          \n",
      "                                                                 \n",
      " dropout (Dropout)           (None, 2048)              0         \n",
      "                                                                 \n",
      " dense (Dense)               (None, 1024)              2098176   \n",
      "                                                                 \n",
      " dropout_1 (Dropout)         (None, 1024)              0         \n",
      "                                                                 \n",
      " dense_1 (Dense)             (None, 120)               123000    \n",
      "                                                                 \n",
      "=================================================================\n",
      "Total params: 24,032,152\n",
      "Trainable params: 2,225,272\n",
      "Non-trainable params: 21,806,880\n",
      "_________________________________________________________________\n"
     ]
    }
   ],
   "source": [
    "base = applications.inception_v3.InceptionV3(include_top=False, weights='imagenet',input_shape=(224,224,3))\n",
    "\n",
    "for layer in base.layers:\n",
    "    layer.trainable=False\n",
    "\n",
    "model = Sequential()\n",
    "model.add(base)\n",
    "model.add(BatchNormalization())\n",
    "model.add(GlobalAveragePooling2D())\n",
    "model.add(Dropout(0.5))\n",
    "model.add(Dense(1024, activation='relu'))\n",
    "model.add(Dropout(0.5))\n",
    "model.add(Dense(120, activation='softmax'))\n",
    "model.summary()\n",
    "\n",
    "optimizer=tf.keras.optimizers.Adam(learning_rate = 0.0001)\n",
    "model.compile(optimizer=optimizer,\n",
    "              loss='sparse_categorical_crossentropy',\n",
    "              metrics=['accuracy'])"
   ]
  },
  {
   "cell_type": "code",
   "execution_count": 7,
   "metadata": {
    "pycharm": {
     "name": "#%%\n"
    }
   },
   "outputs": [
    {
     "name": "stdout",
     "output_type": "stream",
     "text": [
      "Epoch 1/50\n",
      "512/512 [==============================] - 240s 453ms/step - loss: 2.8079 - accuracy: 0.3991 - val_loss: 0.8422 - val_accuracy: 0.7774\n",
      "Epoch 2/50\n",
      "512/512 [==============================] - 228s 446ms/step - loss: 1.0872 - accuracy: 0.7150 - val_loss: 0.6625 - val_accuracy: 0.7999\n",
      "Epoch 3/50\n",
      "512/512 [==============================] - 222s 433ms/step - loss: 0.8420 - accuracy: 0.7669 - val_loss: 0.6417 - val_accuracy: 0.8038\n",
      "Epoch 4/50\n",
      "512/512 [==============================] - 223s 436ms/step - loss: 0.7288 - accuracy: 0.7902 - val_loss: 0.6398 - val_accuracy: 0.8014\n",
      "Epoch 5/50\n",
      "512/512 [==============================] - 226s 442ms/step - loss: 0.6651 - accuracy: 0.7996 - val_loss: 0.6348 - val_accuracy: 0.8102\n",
      "Epoch 6/50\n",
      "512/512 [==============================] - 222s 434ms/step - loss: 0.6092 - accuracy: 0.8158 - val_loss: 0.6337 - val_accuracy: 0.8121\n",
      "Epoch 7/50\n",
      "512/512 [==============================] - 220s 430ms/step - loss: 0.5623 - accuracy: 0.8247 - val_loss: 0.6488 - val_accuracy: 0.8131\n",
      "Epoch 8/50\n",
      "512/512 [==============================] - 219s 428ms/step - loss: 0.5101 - accuracy: 0.8412 - val_loss: 0.6430 - val_accuracy: 0.8116\n",
      "Epoch 9/50\n",
      "512/512 [==============================] - 226s 442ms/step - loss: 0.4727 - accuracy: 0.8530 - val_loss: 0.6534 - val_accuracy: 0.8107\n",
      "Epoch 10/50\n",
      "512/512 [==============================] - 222s 434ms/step - loss: 0.4533 - accuracy: 0.8538 - val_loss: 0.6654 - val_accuracy: 0.8151\n",
      "Epoch 11/50\n",
      "512/512 [==============================] - 226s 442ms/step - loss: 0.4066 - accuracy: 0.8701 - val_loss: 0.6669 - val_accuracy: 0.8121\n",
      "Epoch 12/50\n",
      "512/512 [==============================] - 222s 434ms/step - loss: 0.3948 - accuracy: 0.8731 - val_loss: 0.6722 - val_accuracy: 0.8077\n",
      "Epoch 13/50\n",
      "512/512 [==============================] - 227s 443ms/step - loss: 0.3663 - accuracy: 0.8759 - val_loss: 0.6880 - val_accuracy: 0.8068\n",
      "Epoch 14/50\n",
      "512/512 [==============================] - 223s 437ms/step - loss: 0.3399 - accuracy: 0.8902 - val_loss: 0.6870 - val_accuracy: 0.8072\n",
      "Epoch 15/50\n",
      "512/512 [==============================] - 219s 428ms/step - loss: 0.3235 - accuracy: 0.8925 - val_loss: 0.6987 - val_accuracy: 0.8068\n",
      "Epoch 16/50\n",
      "512/512 [==============================] - 223s 436ms/step - loss: 0.3115 - accuracy: 0.8924 - val_loss: 0.7004 - val_accuracy: 0.8087\n",
      "Epoch 17/50\n",
      "512/512 [==============================] - 224s 438ms/step - loss: 0.2912 - accuracy: 0.9016 - val_loss: 0.7099 - val_accuracy: 0.8107\n",
      "Epoch 18/50\n",
      "512/512 [==============================] - 221s 431ms/step - loss: 0.2749 - accuracy: 0.9089 - val_loss: 0.7259 - val_accuracy: 0.8048\n",
      "Epoch 19/50\n",
      "512/512 [==============================] - 221s 432ms/step - loss: 0.2619 - accuracy: 0.9107 - val_loss: 0.7257 - val_accuracy: 0.8028\n",
      "Epoch 20/50\n",
      "512/512 [==============================] - 227s 443ms/step - loss: 0.2492 - accuracy: 0.9145 - val_loss: 0.7222 - val_accuracy: 0.8053\n",
      "Epoch 21/50\n",
      "512/512 [==============================] - 220s 431ms/step - loss: 0.2406 - accuracy: 0.9160 - val_loss: 0.7392 - val_accuracy: 0.8063\n",
      "Epoch 22/50\n",
      "512/512 [==============================] - 226s 442ms/step - loss: 0.2286 - accuracy: 0.9247 - val_loss: 0.7596 - val_accuracy: 0.8102\n",
      "Epoch 23/50\n",
      "512/512 [==============================] - 217s 423ms/step - loss: 0.2242 - accuracy: 0.9246 - val_loss: 0.7659 - val_accuracy: 0.8019\n",
      "Epoch 24/50\n",
      "512/512 [==============================] - 223s 435ms/step - loss: 0.2126 - accuracy: 0.9271 - val_loss: 0.7547 - val_accuracy: 0.8023\n",
      "Epoch 25/50\n",
      "512/512 [==============================] - 221s 432ms/step - loss: 0.2120 - accuracy: 0.9281 - val_loss: 0.7679 - val_accuracy: 0.8048\n",
      "Epoch 26/50\n",
      "512/512 [==============================] - 219s 428ms/step - loss: 0.2009 - accuracy: 0.9280 - val_loss: 0.7778 - val_accuracy: 0.8077\n",
      "Epoch 27/50\n",
      "512/512 [==============================] - 218s 425ms/step - loss: 0.1960 - accuracy: 0.9318 - val_loss: 0.7993 - val_accuracy: 0.8082\n",
      "Epoch 28/50\n",
      "512/512 [==============================] - 227s 444ms/step - loss: 0.1961 - accuracy: 0.9324 - val_loss: 0.7923 - val_accuracy: 0.8102\n",
      "Epoch 29/50\n",
      "512/512 [==============================] - 217s 424ms/step - loss: 0.1770 - accuracy: 0.9390 - val_loss: 0.7862 - val_accuracy: 0.8058\n",
      "Epoch 30/50\n",
      "512/512 [==============================] - 221s 432ms/step - loss: 0.1741 - accuracy: 0.9371 - val_loss: 0.8016 - val_accuracy: 0.8151\n",
      "Epoch 31/50\n",
      "512/512 [==============================] - 226s 442ms/step - loss: 0.1672 - accuracy: 0.9395 - val_loss: 0.8062 - val_accuracy: 0.8058\n",
      "Epoch 32/50\n",
      "512/512 [==============================] - 222s 434ms/step - loss: 0.1716 - accuracy: 0.9365 - val_loss: 0.8152 - val_accuracy: 0.8043\n",
      "Epoch 33/50\n",
      "512/512 [==============================] - 219s 428ms/step - loss: 0.1628 - accuracy: 0.9444 - val_loss: 0.8226 - val_accuracy: 0.8033\n",
      "Epoch 34/50\n",
      "512/512 [==============================] - 225s 439ms/step - loss: 0.1535 - accuracy: 0.9468 - val_loss: 0.8135 - val_accuracy: 0.8058\n",
      "Epoch 35/50\n",
      "512/512 [==============================] - 221s 431ms/step - loss: 0.1546 - accuracy: 0.9464 - val_loss: 0.8329 - val_accuracy: 0.8048\n",
      "Epoch 36/50\n",
      "512/512 [==============================] - 222s 433ms/step - loss: 0.1532 - accuracy: 0.9460 - val_loss: 0.8360 - val_accuracy: 0.8068\n",
      "Epoch 37/50\n",
      "512/512 [==============================] - 221s 432ms/step - loss: 0.1397 - accuracy: 0.9506 - val_loss: 0.8242 - val_accuracy: 0.8097\n",
      "Epoch 38/50\n",
      "512/512 [==============================] - 221s 431ms/step - loss: 0.1237 - accuracy: 0.9574 - val_loss: 0.8420 - val_accuracy: 0.8068\n",
      "Epoch 39/50\n",
      "512/512 [==============================] - 226s 442ms/step - loss: 0.1370 - accuracy: 0.9523 - val_loss: 0.8643 - val_accuracy: 0.8077\n",
      "Epoch 40/50\n",
      "512/512 [==============================] - 223s 436ms/step - loss: 0.1343 - accuracy: 0.9526 - val_loss: 0.8666 - val_accuracy: 0.8053\n",
      "Epoch 41/50\n",
      "512/512 [==============================] - 221s 433ms/step - loss: 0.1274 - accuracy: 0.9549 - val_loss: 0.8806 - val_accuracy: 0.7994\n",
      "Epoch 42/50\n",
      "512/512 [==============================] - 225s 439ms/step - loss: 0.1287 - accuracy: 0.9557 - val_loss: 0.8566 - val_accuracy: 0.8063\n",
      "Epoch 43/50\n",
      "512/512 [==============================] - 221s 431ms/step - loss: 0.1216 - accuracy: 0.9573 - val_loss: 0.8762 - val_accuracy: 0.8092\n",
      "Epoch 44/50\n",
      "512/512 [==============================] - 222s 434ms/step - loss: 0.1220 - accuracy: 0.9570 - val_loss: 0.8781 - val_accuracy: 0.8097\n",
      "Epoch 45/50\n",
      "512/512 [==============================] - 226s 442ms/step - loss: 0.1171 - accuracy: 0.9565 - val_loss: 0.9042 - val_accuracy: 0.8112\n",
      "Epoch 46/50\n",
      "512/512 [==============================] - 224s 438ms/step - loss: 0.1145 - accuracy: 0.9599 - val_loss: 0.9063 - val_accuracy: 0.8077\n",
      "Epoch 47/50\n",
      "512/512 [==============================] - 225s 440ms/step - loss: 0.1052 - accuracy: 0.9625 - val_loss: 0.8932 - val_accuracy: 0.8048\n",
      "Epoch 48/50\n",
      "512/512 [==============================] - 219s 429ms/step - loss: 0.1073 - accuracy: 0.9626 - val_loss: 0.9102 - val_accuracy: 0.8058\n",
      "Epoch 49/50\n",
      "512/512 [==============================] - 219s 427ms/step - loss: 0.1053 - accuracy: 0.9621 - val_loss: 0.9243 - val_accuracy: 0.8072\n",
      "Epoch 50/50\n",
      "512/512 [==============================] - 227s 442ms/step - loss: 0.1165 - accuracy: 0.9611 - val_loss: 0.9315 - val_accuracy: 0.8038\n"
     ]
    }
   ],
   "source": [
    "history_inc = model.fit(train_generator, epochs=50, verbose = 1,\n",
    "                        validation_data=validation_generator)"
   ]
  },
  {
   "cell_type": "code",
   "execution_count": 8,
   "metadata": {
    "pycharm": {
     "name": "#%%\n"
    }
   },
   "outputs": [
    {
     "data": {
      "image/png": "[encoded data removed]",
      "text/plain": [
       "<Figure size 640x480 with 1 Axes>"
      ]
     },
     "metadata": {},
     "output_type": "display_data"
    },
    {
     "data": {
      "image/png": "[encoded data removed]",
      "text/plain": [
       "<Figure size 640x480 with 1 Axes>"
      ]
     },
     "metadata": {},
     "output_type": "display_data"
    }
   ],
   "source": [
    "plt.figure()\n",
    "plt.plot(history_inc .history['val_loss'], label = 'Val loss')\n",
    "plt.plot(history_inc .history['loss'], label = 'Train loss')\n",
    "plt.legend()\n",
    "plt.show()\n",
    "plt.figure()\n",
    "plt.plot(history_inc .history['val_accuracy'], label = 'Val accuracy')\n",
    "plt.plot(history_inc .history['accuracy'], label = 'Accuracy')\n",
    "plt.legend()\n",
    "plt.show()"
   ]
  },
  {
   "cell_type": "code",
   "execution_count": 9,
   "metadata": {
    "pycharm": {
     "name": "#%%\n"
    }
   },
   "outputs": [
    {
     "data": {
      "image/png": "[encoded data removed]",
      "text/plain": [
       "<PIL.Image.Image image mode=RGBA size=1131x63>"
      ]
     },
     "execution_count": 9,
     "metadata": {},
     "output_type": "execute_result"
    }
   ],
   "source": [
    "visualkeras.layered_view(model,  legend=True)"
   ]
  },
  {
   "cell_type": "code",
   "execution_count": null,
   "metadata": {
    "pycharm": {
     "name": "#%%\n"
    }
   },
   "outputs": [],
   "source": []
  }
 ],
 "metadata": {
  "kernelspec": {
   "display_name": "Python 3 (ipykernel)",
   "language": "python",
   "name": "python3"
  },
  "language_info": {
   "codemirror_mode": {
    "name": "ipython",
    "version": 3
   },
   "file_extension": ".py",
   "mimetype": "text/x-python",
   "name": "python",
   "nbconvert_exporter": "python",
   "pygments_lexer": "ipython3",
   "version": "3.8.13"
  }
 },
 "nbformat": 4,
 "nbformat_minor": 1
}
